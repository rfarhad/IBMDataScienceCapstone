{
 "cells": [
  {
   "cell_type": "markdown",
   "metadata": {},
   "source": [
    "# <center> IBM Data Science Capstone Project <center>"
   ]
  },
  {
   "cell_type": "markdown",
   "metadata": {},
   "source": [
    "## <center> Report <center>"
   ]
  },
  {
   "cell_type": "markdown",
   "metadata": {},
   "source": [
    "### <center> Opening an African Restaurant in Kuala Lumpur, Malaysia <center>"
   ]
  },
  {
   "cell_type": "markdown",
   "metadata": {},
   "source": [
    "### 1. Introduction"
   ]
  },
  {
   "cell_type": "markdown",
   "metadata": {},
   "source": [
    "#### 1.1. Background"
   ]
  },
  {
   "cell_type": "markdown",
   "metadata": {},
   "source": [
    "This is the report for the Capstone project of the IBM Data Science Professional Certification hosted by Coursera. The project aims to leverage FourSquare data to explore and cluster neighborhoods or cities to solve a creative business problem."
   ]
  },
  {
   "cell_type": "markdown",
   "metadata": {},
   "source": [
    "#### 1.2. Business Problem"
   ]
  },
  {
   "cell_type": "markdown",
   "metadata": {},
   "source": [
    "Kuala Lumpur, officially the **Federal Territory of Kuala Lumpur** is the capital city of Malaysia[1]. It is the largest city in Malaysia, covering an area of 243 sq km (94 sq mi) with an estimated population of 1.73 million and is among the fastest growing metropolitan cities in the world[1].\n",
    "\n",
    "My client from Kenya is interested in opening an African Restauarant in the KL city. KL city is home to hundreds and thousands of restaurants of various cuisines. Hence, it is important to identify a good location for our client to open a restaurant to draw a large number of crowd. \n",
    "\n",
    "The aim is to identify the best suburb in the KL city to open my client's African Restaurant."
   ]
  },
  {
   "cell_type": "markdown",
   "metadata": {},
   "source": [
    "#### 1.3. Interests"
   ]
  },
  {
   "cell_type": "markdown",
   "metadata": {},
   "source": [
    "Apart from my client, any one who is willing to open a business or restaurant in the city of KL may find this analysis useful. The analysis involves up to date location and venue data, and uses latest machine learning techniques to solve the business problem. Hence, this analysis could be used as a starting point for anyone who is willing to open a restaurant in Kuala Lumpur.\n",
    "\n",
    "People can also use the techinque implemented here on any other city in the world. "
   ]
  },
  {
   "cell_type": "markdown",
   "metadata": {},
   "source": [
    "### 2. Data"
   ]
  },
  {
   "cell_type": "markdown",
   "metadata": {},
   "source": [
    "#### 2.1. Data Source"
   ]
  },
  {
   "cell_type": "markdown",
   "metadata": {},
   "source": [
    "The data is obtained from mainly three sources.\n",
    "\n",
    "* Wikipedia - https://en.wikipedia.org/wiki/Category:Suburbs_in_Kuala_Lumpur\n",
    "\n",
    "The wikipedia page is used to extract the list of suburbs in the Kuala Lumpur city. \n",
    "\n",
    "* Latitude and Longitude data of each suburb in KL City.\n",
    "\n",
    "This data is extracted using python's geocoder package\n",
    "\n",
    "* Foursquare API \n",
    "\n",
    "The Foursquare Places API provides location based experiences with diverse information about venues, users, photos, and check-ins. The API supports real time access to places, Snap-to-Place that assigns users to specific locations, and Geo-tag[2].\n",
    "\n",
    "The Foursquare data is used to obtain the venue information of each of the suburbs in the city."
   ]
  },
  {
   "cell_type": "markdown",
   "metadata": {},
   "source": [
    "#### 2.2. How this data can be used to solve the business problem"
   ]
  },
  {
   "cell_type": "markdown",
   "metadata": {},
   "source": [
    "The wikipedia page contains the list of suburbs in the KL city. First, we will extract these names using the BeautifulSoup package in python. Secondly, we will use the geocoder library provided by python to obtain the latitude and longitude information. Finally, we will use the Foursquare API to acquire the list of venues in these suburbs and will filter to get only the restaurant venues. "
   ]
  },
  {
   "cell_type": "markdown",
   "metadata": {},
   "source": [
    "### 3. Methodology"
   ]
  },
  {
   "cell_type": "markdown",
   "metadata": {},
   "source": [
    "As described in the **Data** section of this report, three main sources of data is used to solve the business problem. \n",
    "\n",
    "* Wikipedia page containing the list of suburbs\n",
    "* Latitude and Longitude information of the suburbs\n",
    "* Foursquare API for venues\n",
    "\n",
    "The first step is to obtain the list of suburbs in the KL city. There are in total 71 suburbs in the city. The names of all these suburbs are extracted using the BeautifulSoup package. These names are then saved into the dataframe, `suburb_df` \n",
    "\n",
    "Then, the **geocoder** library is used to obtain the latitude and longitude information of each of the suburbs and is then merged to the `suburb_df` dataframe. This dataframe now contains three important aspects of data - \n",
    "\n",
    "* Suburb Name `SuburbName`\n",
    "* Suburb Latitude `Latidude`\n",
    "* Suburb Longitude `Longitude`\n",
    "\n",
    "Once the data dataframe is ready, the latitude and longitude information of the Kuala Lumpur city is obtained using the **geocoder** library and are stored in `kl_coordinates` variable. Then the **folium** package is used to draw the map of Kuala Lumpur with all the suburbs marked and superimposed on the map.\n",
    "\n",
    "Next, the **Foursquare API** is used to extract the top 100 venues within 500 meter radius of these suburbs. This data is then stored in the `kl_venues_all` dataframe. This dataframe contains - \n",
    "\n",
    "* Suburb Name `SuburbName`\n",
    "* Suburb Latitude `Suburb Latidude`\n",
    "* Suburb Longitude `Suburb Longitude`\n",
    "* Venue `Venue`\n",
    "* Venue Latitude `Venue Latitude`\n",
    "* Venue Longitude `Venue Longitude`\n",
    "* Venue Category `Venue Category`\n",
    "\n",
    "When a call is made to the Foursquare API to obtain the venues, the API returns all venues in each of the suburbs regardless of the category. This project although aims only at identifying restaurants in the suburbs. Hence, a new dataframe, `kl_restaurants` is created which filters and extracts only the restaurant categories in the suburbs. \n",
    "\n",
    "Once this dataframe containing all the restaurants in the suburbs is finalized, an unsuprvised machine learning technique known as **Clustering** is employed which is provided by python's **scikit learn** package. \n",
    "\n",
    "**Cluster analysis or Clustering** is the task of grouping a set of objects in such a way that objects in the same group (called a cluster) are more similar (in some sense) to each other than to those in other groups (clusters). It is a main task of exploratory data mining, and a common technique for statistical data analysis, used in many fields, including pattern recognition, image analysis, information retrieval, bioinformatics, data compression, computer graphics and machine learning[3].\n",
    "\n",
    "The clustering techinque then clusters and divides all these suburbs into number of clusters specified by the user. In this projects, cluster number = 3 is set.  \n",
    "\n",
    "All the suburbs in the KL city are now divided into 3 clusters. Each of these suburbs will fall under either the 1st, 2nd or the 3rd cluster. \n",
    "\n",
    "This analysis is then used to identify a cluster that shows the most promise in opening the African Restaurant. This cluster of suburbs is then recommended to the client. "
   ]
  },
  {
   "cell_type": "markdown",
   "metadata": {},
   "source": [
    "### 4. Results"
   ]
  },
  {
   "cell_type": "markdown",
   "metadata": {},
   "source": [
    "The clustering technique is used to divide the suburbs into k = 3, clusters. \n",
    "The clusters are as below - \n",
    "\n",
    "<img src = \"images/Clusters.png\">\n",
    "\n",
    "As seen above, the suburbs are divided into 3 clusters - red, purple and green, each color represeting a cluster.\n",
    "\n",
    "* Cluster 0 - Red\n",
    "* Cluster 1 - Purple\n",
    "* Cluster 2 - Green\n",
    "\n",
    "**Cluster 0** consists of 34 suburbs. This cluster has the most number of African Restaurants with most of these restaurants situated in four areas Damansara Town Centre, Federal Hill, Happy Garden and Wangsa Maju areas. (The entire dataset couldn't be fit in one picture)\n",
    "\n",
    "<img src = \"images/Cluster_0.png\">\n",
    "\n",
    "**Cluster 1** consists of 17 suburbs. But this cluster has no information of any African Restaurants. \n",
    "\n",
    "<img src = \"images/Cluster_1.png\">\n",
    "\n",
    "**Cluster 2** consists of 20 suburbs. In this cluster, there is only one place that has African Restaurants and this place is Bandar Menjalara.\n",
    "\n",
    "<img src = \"images/Cluster_2.png\">"
   ]
  },
  {
   "cell_type": "markdown",
   "metadata": {},
   "source": [
    "### 5. Discussion"
   ]
  },
  {
   "cell_type": "markdown",
   "metadata": {},
   "source": [
    "As seen in the results section, cluster 0 and 2 have African Restaurants in them, with most of the restaurnts concentrated in a small number of suburbs. Whereas, Cluster 1 has no African restaurants. \n",
    "\n",
    "Cluster 1 contains a very important suburb in KL called Bangsar. Bangsar is home to hundreds of thousands of restaurants but it is suriprising that there are no African restaurants listed in this suburb. Hence it would be a good idea for my client to open a restaurant here. \n",
    "\n",
    "Opening a restaurant in Bangsar is guaranteed to draw a large number of multicultural crowds. Bangsar although situated in the outskirts of KL, it consists of a large number of residentials complexes, restaurants, bars and other amenities. \n",
    "\n",
    "The final recommendation would be to open the restaurant in Bangsar, which belongs to the second cluster or **cluster 1**. "
   ]
  },
  {
   "cell_type": "markdown",
   "metadata": {},
   "source": [
    "### 6. Conclusion"
   ]
  },
  {
   "cell_type": "markdown",
   "metadata": {},
   "source": [
    "In this project, we have helped a client solve a business problem. We were successfully able to identify a suburb for our client to open a restaurant using the techniques learned in the IBM Data Science Professional Certification. \n",
    "\n",
    "We first extracted the suburb names from the wikipedia page and then obtained their latitude and longitude information using the geocoder library. Once we had successfully extracted these information, we used foursquare api to list the venues in each of these suburbs. \n",
    "\n",
    "Then we filtered for only restaurants and used sci-kit learn library's K-Means Clustering method to cluster the suburbs into 3 clusters. After this we idenitified a cluster and a suburb in it as our recommendation for our client."
   ]
  },
  {
   "cell_type": "markdown",
   "metadata": {},
   "source": [
    "### 7. References"
   ]
  },
  {
   "cell_type": "markdown",
   "metadata": {},
   "source": [
    "1. https://en.wikipedia.org/wiki/Kuala_Lumpur\n",
    "2. https://www.programmableweb.com/api/foursquare#:~:text=The%20Foursquare%20Places%20API%20provides,locations%2C%20and%20Geo%2Dtag.\n",
    "3. https://en.wikipedia.org/wiki/Cluster_analysis"
   ]
  }
 ],
 "metadata": {
  "kernelspec": {
   "display_name": "Python 3",
   "language": "python",
   "name": "python3"
  },
  "language_info": {
   "codemirror_mode": {
    "name": "ipython",
    "version": 3
   },
   "file_extension": ".py",
   "mimetype": "text/x-python",
   "name": "python",
   "nbconvert_exporter": "python",
   "pygments_lexer": "ipython3",
   "version": "3.8.5"
  }
 },
 "nbformat": 4,
 "nbformat_minor": 4
}
