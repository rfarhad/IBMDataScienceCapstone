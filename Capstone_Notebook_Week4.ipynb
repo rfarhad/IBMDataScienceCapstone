{
 "cells": [
  {
   "cell_type": "markdown",
   "metadata": {},
   "source": [
    "# IBM Data Science Capstone"
   ]
  },
  {
   "cell_type": "markdown",
   "metadata": {},
   "source": [
    "## Week 4"
   ]
  },
  {
   "cell_type": "markdown",
   "metadata": {},
   "source": [
    "### Business Problem"
   ]
  },
  {
   "cell_type": "markdown",
   "metadata": {},
   "source": [
    "Kuala Lumpur, officially the Federal Territory of Kuala Lumpur is the capital city of Malaysia. It is the largest city in Malaysia, covering an area of 243 sq km (94 sq mi) with an estimated population of 1.73 million and is among the fastest growing metropolitan cities in the world.\n",
    "\n",
    "My client from Kenya is interested in opening an African Restauarant in the KL city. KL city is home to hundreds and thousands of restaurants of various cuisines. Hence, it is important to identify a good location for our client to open a restaurant to draw a large number of crowd.\n",
    "\n",
    "The aim is to identify the best suburb in the KL city to open my client's African Restaurant."
   ]
  },
  {
   "cell_type": "markdown",
   "metadata": {},
   "source": [
    "### Data"
   ]
  },
  {
   "cell_type": "markdown",
   "metadata": {},
   "source": [
    "#### Data Source"
   ]
  },
  {
   "cell_type": "markdown",
   "metadata": {},
   "source": [
    "The data is obtained from mainly three sources.\n",
    "\n",
    "* Wikipedia - https://en.wikipedia.org/wiki/Category:Suburbs_in_Kuala_Lumpur\n",
    "\n",
    "The wikipedia page is used to extract the list of suburbs in the Kuala Lumpur city. \n",
    "\n",
    "* Latitude and Longitude data of each suburb in KL City.\n",
    "\n",
    "This data is extracted using python's geocoder package\n",
    "\n",
    "* Foursquare API \n",
    "\n",
    "The Foursquare Places API provides location based experiences with diverse information about venues, users, photos, and check-ins. The API supports real time access to places, Snap-to-Place that assigns users to specific locations, and Geo-tag.\n",
    "\n",
    "The Foursquare data is used to obtain the venue information of each of the suburbs in the city."
   ]
  },
  {
   "cell_type": "markdown",
   "metadata": {},
   "source": [
    "#### How the data will be used to solve the business problem"
   ]
  },
  {
   "cell_type": "markdown",
   "metadata": {},
   "source": [
    "The wikipedia page contains the list of suburbs in the KL city. \n",
    "\n",
    "* First, we will extract these names using the BeautifulSoup package in python. \n",
    "\n",
    "* Secondly, we will use the geocoder library provided by python to obtain the latitude and longitude information. \n",
    "\n",
    "* Finally, we will use the Foursquare API to acquire the list of venues in these suburbs and will filter to get only the restaurant venues. "
   ]
  }
 ],
 "metadata": {
  "kernelspec": {
   "display_name": "Python 3",
   "language": "python",
   "name": "python3"
  },
  "language_info": {
   "codemirror_mode": {
    "name": "ipython",
    "version": 3
   },
   "file_extension": ".py",
   "mimetype": "text/x-python",
   "name": "python",
   "nbconvert_exporter": "python",
   "pygments_lexer": "ipython3",
   "version": "3.8.5"
  }
 },
 "nbformat": 4,
 "nbformat_minor": 4
}
